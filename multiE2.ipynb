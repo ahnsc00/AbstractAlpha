{
 "cells": [
  {
   "cell_type": "code",
   "id": "initial_id",
   "metadata": {
    "collapsed": true,
    "ExecuteTime": {
     "end_time": "2024-12-03T13:39:51.450155Z",
     "start_time": "2024-12-03T13:39:42.252950Z"
    }
   },
   "source": [
    "import numpy as np\n",
    "import pandas as pd\n",
    "from stable_baselines3 import PPO\n",
    "from stable_baselines3.common.vec_env import DummyVecEnv\n",
    "from stable_baselines3.common.monitor import Monitor\n",
    "from sklearn.model_selection import train_test_split\n",
    "from data.coin_load_data_multi import coin_load_data\n",
    "from network.transformer import TransformerPolicy\n",
    "import torch\n",
    "import torch.nn as nn\n",
    "import multiprocessing\n",
    "from env.envE2 import TradingEnv\n",
    "from network.finaldecision import FinalDecisionNetwork\n",
    "from env.envE2multi import FinalTradingEnv"
   ],
   "outputs": [],
   "execution_count": 1
  },
  {
   "metadata": {
    "ExecuteTime": {
     "end_time": "2024-12-02T13:54:58.704614Z",
     "start_time": "2024-12-02T13:54:58.701150Z"
    }
   },
   "cell_type": "code",
   "source": [
    "def train_agent(env, timesteps,device=\"cuda\"):\n",
    "    \"\"\"에이전트를 학습시키는 함수\"\"\"\n",
    "    model = PPO(\"MlpPolicy\", env, verbose=1, device=device, learning_rate=2e-4)\n",
    "    model.learn(total_timesteps=timesteps)\n",
    "    return model"
   ],
   "id": "76429e69d0caa8d0",
   "outputs": [],
   "execution_count": 3
  },
  {
   "metadata": {
    "jupyter": {
     "is_executing": true
    },
    "ExecuteTime": {
     "start_time": "2024-12-02T13:54:58.720842Z"
    }
   },
   "cell_type": "code",
   "source": [
    "data_5min, data_15min, data_1hour, data_4hour  = coin_load_data()\n",
    "train_5min, test_5min = train_test_split(data_5min, test_size=0.15, random_state=42, shuffle=False)\n",
    "train_15min, test_15min = train_test_split(data_15min, test_size=0.15, random_state=42, shuffle=False)\n",
    "train_1hour, test_1hour = train_test_split(data_1hour, test_size=0.15, random_state=42, shuffle=False)\n",
    "train_4hour, test_4hour = train_test_split(data_4hour, test_size=0.15, random_state=42, shuffle=False)"
   ],
   "id": "c96c38f9963b551c",
   "outputs": [],
   "execution_count": null
  },
  {
   "metadata": {},
   "cell_type": "code",
   "outputs": [],
   "execution_count": null,
   "source": [
    "envs = {\n",
    "    \"5min\": DummyVecEnv([lambda: TradingEnv(data_5min)]),\n",
    "    \"15min\": DummyVecEnv([lambda: TradingEnv(data_15min)]),\n",
    "    \"1hour\": DummyVecEnv([lambda: TradingEnv(data_1hour)]),\n",
    "    \"4hour\": DummyVecEnv([lambda: TradingEnv(data_4hour)]),\n",
    "}\n",
    "timesteps = {\n",
    "    \"5min\": data_5min.shape[0],\n",
    "    \"15min\": data_15min.shape[0]*3,\n",
    "    \"1hour\": data_1hour.shape[0]*6,\n",
    "    \"4hour\": data_4hour.shape[0] * 10,\n",
    "}\n",
    "\n",
    "# 멀티프로세싱 풀 생성\n",
    "with multiprocessing.Pool(processes=4) as pool:\n",
    "    results = pool.starmap(\n",
    "        train_agent,\n",
    "        [\n",
    "            (envs[\"5min\"], timesteps[\"5min\"]),\n",
    "            (envs[\"15min\"], timesteps[\"15min\"]),\n",
    "            (envs[\"1hour\"], timesteps[\"1hour\"]),\n",
    "            (envs[\"4hour\"], timesteps[\"4hour\"]),\n",
    "        ],\n",
    "    )\n",
    "\n",
    "# 결과 저장\n",
    "model_5min, model_15min, model_1hour, model_4hour = results"
   ],
   "id": "43096a1cc57361fc"
  },
  {
   "metadata": {},
   "cell_type": "code",
   "outputs": [],
   "execution_count": null,
   "source": [
    "# 최종 환경 생성\n",
    "final_env = FinalTradingEnv(\n",
    "    models=[model_5min, model_15min, model_1hour, model_4hour],\n",
    "    base_env=TradingEnv(data_5min),  # 5분봉 데이터를 기본 보상 및 상태로 사용\n",
    "    render_mode=\"human\"\n",
    ")\n",
    "\n",
    "final_env = DummyVecEnv([lambda: final_env])\n",
    "\n",
    "# PPO로 학습\n",
    "final_model = PPO(\"MlpPolicy\", final_env, verbose=1, device=\"cuda\")\n",
    "final_model.learn(total_timesteps=100000)"
   ],
   "id": "c28b97f0fc4b921e"
  }
 ],
 "metadata": {
  "kernelspec": {
   "display_name": "Python 3",
   "language": "python",
   "name": "python3"
  },
  "language_info": {
   "codemirror_mode": {
    "name": "ipython",
    "version": 2
   },
   "file_extension": ".py",
   "mimetype": "text/x-python",
   "name": "python",
   "nbconvert_exporter": "python",
   "pygments_lexer": "ipython2",
   "version": "2.7.6"
  }
 },
 "nbformat": 4,
 "nbformat_minor": 5
}
