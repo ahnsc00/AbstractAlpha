{
 "cells": [
  {
   "metadata": {
    "ExecuteTime": {
     "end_time": "2024-12-02T13:33:10.039191Z",
     "start_time": "2024-12-02T13:31:01.934566Z"
    }
   },
   "cell_type": "code",
   "source": [
    "from gym_trading_env.downloader import download\n",
    "import datetime\n",
    "import pandas as pd\n",
    "\n",
    "download(exchange_names=[\"binance\"],\n",
    "         symbols=[\"BTC/USDT\"],\n",
    "         timeframe=\"5m\",\n",
    "         dir=\".\",\n",
    "         since=datetime.datetime(year=2017, month=7, day=1))"
   ],
   "id": "c311782e76563114",
   "outputs": [
    {
     "name": "stdout",
     "output_type": "stream",
     "text": [
      "BTC/USDT downloaded from binance and stored at ./binance-BTCUSDT-5m.pkl\n"
     ]
    }
   ],
   "execution_count": 1
  },
  {
   "cell_type": "code",
   "id": "initial_id",
   "metadata": {
    "collapsed": true,
    "ExecuteTime": {
     "end_time": "2024-12-01T13:04:33.250076Z",
     "start_time": "2024-12-01T13:03:53.715742Z"
    }
   },
   "source": [
    "from gym_trading_env.downloader import download\n",
    "import datetime\n",
    "import pandas as pd\n",
    "\n",
    "download(exchange_names=[\"binance\"],\n",
    "         symbols=[\"ETH/USDT\"],  # 심볼을 이더리움으로 변경\n",
    "         timeframe=\"15m\",       # 15분봉 데이터로 설정\n",
    "         dir=\".\",\n",
    "         since=datetime.datetime(year=2018, month=1, day=1)) "
   ],
   "outputs": [
    {
     "name": "stdout",
     "output_type": "stream",
     "text": [
      "ETH/USDT downloaded from binance and stored at ./binance-ETHUSDT-15m.pkl\n"
     ]
    }
   ],
   "execution_count": 6
  },
  {
   "metadata": {
    "ExecuteTime": {
     "end_time": "2024-12-01T13:17:11.310411Z",
     "start_time": "2024-12-01T13:16:30.013406Z"
    }
   },
   "cell_type": "code",
   "source": [
    "from gym_trading_env.downloader import download\n",
    "import datetime\n",
    "import pandas as pd\n",
    "\n",
    "download(\n",
    "    exchange_names=[\"binance\"],  # 거래소 이름\n",
    "    symbols=[\"DOGE/USDT\"],       # 도지코인 심볼\n",
    "    timeframe=\"15m\",             # 15분봉 데이터\n",
    "    dir=\".\",                  # 데이터 저장 디렉토리\n",
    "    since=datetime.datetime(year=2018, month=1, day=1)  # 시작 날짜\n",
    ")"
   ],
   "id": "1614c7fdb40bb7bf",
   "outputs": [
    {
     "name": "stdout",
     "output_type": "stream",
     "text": [
      "DOGE/USDT downloaded from binance and stored at ./binance-DOGEUSDT-15m.pkl\n"
     ]
    }
   ],
   "execution_count": 8
  },
  {
   "metadata": {
    "ExecuteTime": {
     "end_time": "2024-12-01T13:25:06.643830Z",
     "start_time": "2024-12-01T13:24:38.185222Z"
    }
   },
   "cell_type": "code",
   "source": [
    "from gym_trading_env.downloader import download\n",
    "import datetime\n",
    "import pandas as pd\n",
    "\n",
    "download(\n",
    "    exchange_names=[\"binance\"],  # 거래소 이름\n",
    "    symbols=[\"XRP/USDT\"],        # 리플 심볼\n",
    "    timeframe=\"15m\",             # 15분봉 데이터\n",
    "    dir=\".\",                  # 데이터 저장 디렉토리\n",
    "    since=datetime.datetime(year=2020, month=1, day=1)  # 시작 날짜\n",
    ")"
   ],
   "id": "f01c8816c67b1f2",
   "outputs": [
    {
     "name": "stderr",
     "output_type": "stream",
     "text": [
      "binance requires to release all resources with an explicit call to the .close() coroutine. If you are using the exchange instance with async coroutines, add `await exchange.close()` to your code into a place when you're done with the exchange and don't need the exchange instance anymore (at the end of your async coroutine).\n",
      "Unclosed client session\n",
      "client_session: <aiohttp.client.ClientSession object at 0x00000222297CB110>\n"
     ]
    },
    {
     "name": "stdout",
     "output_type": "stream",
     "text": [
      "XRP/USDT downloaded from binance and stored at ./binance-XRPUSDT-15m.pkl\n"
     ]
    }
   ],
   "execution_count": 10
  },
  {
   "metadata": {},
   "cell_type": "code",
   "outputs": [],
   "execution_count": null,
   "source": [
    "from gym_trading_env.downloader import download\n",
    "import datetime\n",
    "import pandas as pd\n",
    "\n",
    "download(\n",
    "    exchange_names=[\"binance\"],  # 거래소 이름\n",
    "    symbols=[\"XRP/USDT\"],        # 리플 심볼\n",
    "    timeframe=\"15m\",             # 15분봉 데이터\n",
    "    dir=\".\",                  # 데이터 저장 디렉토리\n",
    "    since=datetime.datetime(year=2020, month=1, day=1)  # 시작 날짜\n",
    ")"
   ],
   "id": "7065bf02efd867dc"
  }
 ],
 "metadata": {
  "kernelspec": {
   "display_name": "Python 3",
   "language": "python",
   "name": "python3"
  },
  "language_info": {
   "codemirror_mode": {
    "name": "ipython",
    "version": 2
   },
   "file_extension": ".py",
   "mimetype": "text/x-python",
   "name": "python",
   "nbconvert_exporter": "python",
   "pygments_lexer": "ipython2",
   "version": "2.7.6"
  }
 },
 "nbformat": 4,
 "nbformat_minor": 5
}
